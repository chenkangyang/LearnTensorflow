{
 "cells": [
  {
   "cell_type": "code",
   "execution_count": 9,
   "metadata": {},
   "outputs": [
    {
     "name": "stdout",
     "output_type": "stream",
     "text": [
      "0.12149958\n",
      "0.0067034126\n",
      "0.0058506713\n",
      "0.0056390106\n",
      "0.005533991\n",
      "0.0054710805\n",
      "0.005430884\n",
      "0.0053862105\n",
      "0.0053496067\n",
      "0.0053125713\n",
      "0.005284663\n",
      "0.005261472\n",
      "0.005235995\n",
      "0.005213967\n",
      "0.005190116\n",
      "0.005164167\n",
      "0.0051352475\n",
      "0.005105275\n",
      "0.0050794994\n",
      "0.005041612\n"
     ]
    }
   ],
   "source": [
    "import tensorflow as tf\n",
    "import numpy as np\n",
    "\n",
    "def add_layer(inputs, in_size, out_size, activation_function=None):\n",
    "    Weights = tf.Variable(tf.random_normal([in_size,out_size]))\n",
    "    biases = tf.Variable(tf.zeros([1, out_size]) + 0.1) # biases初始值不为0\n",
    "    Wx_plus_b = tf.matmul(inputs, Weights) + biases\n",
    "    if activation_function is None:\n",
    "        outputs = Wx_plus_b\n",
    "    else:\n",
    "        outputs = activation_function(Wx_plus_b)\n",
    "    return outputs\n",
    "\n",
    "# Make up some real data\n",
    "x_data = np.linspace(-1,1,300,dtype=np.float32)[:,np.newaxis]# 300个 -1至1之间的数\n",
    "noise = np.random.normal(0, 0.05, x_data.shape).astype(np.float32)\n",
    "y_data = np.square(x_data) - 0.5 + noise\n",
    "\n",
    "\n",
    "xs = tf.placeholder(tf.float32,[None,1])\n",
    "ys = tf.placeholder(tf.float32,[None,1])\n",
    "\n",
    "l1 = add_layer(xs,1,10,activation_function=tf.nn.relu)\n",
    "prediction = add_layer(l1,10,1,activation_function=None)\n",
    "\n",
    "loss = tf.reduce_mean(tf.reduce_sum(tf.square(ys-prediction),reduction_indices=[1]))\n",
    "\n",
    "train_step = tf.train.GradientDescentOptimizer(0.1).minimize(loss) # learning rate = 0.1\n",
    "\n",
    "init = tf.global_variables_initializer()\n",
    "sess = tf.Session()\n",
    "sess.run(init)\n",
    "\n",
    "for i in range(1000):\n",
    "    sess.run(train_step, feed_dict={xs:x_data, ys:y_data})\n",
    "    if i % 50 == 0:\n",
    "        print(sess.run(loss, feed_dict={xs:x_data,ys:y_data}))"
   ]
  },
  {
   "cell_type": "code",
   "execution_count": 20,
   "metadata": {},
   "outputs": [
    {
     "name": "stdout",
     "output_type": "stream",
     "text": [
      "3 layers: input output relu\n",
      "x: (300, 1)\n",
      "W1: (1,10)\n",
      "temp=W1*x+b1: (300,10)\n",
      "W2: (10,1)\n",
      "y=temp*W2\n",
      "y: (300, 1)\n"
     ]
    }
   ],
   "source": [
    "print(\"3 layers: input output relu\")\n",
    "print(\"x:\", x_data.shape)\n",
    "print(\"W1: (1,10)\")\n",
    "print(\"temp=W1*x+b1: (300,10)\")\n",
    "print(\"W2: (10,1)\")\n",
    "print(\"y=temp*W2\")\n",
    "print(\"y:\", y_data.shape)"
   ]
  }
 ],
 "metadata": {
  "kernelspec": {
   "display_name": "Python [conda env:gc]",
   "language": "python",
   "name": "conda-env-gc-py"
  },
  "language_info": {
   "codemirror_mode": {
    "name": "ipython",
    "version": 3
   },
   "file_extension": ".py",
   "mimetype": "text/x-python",
   "name": "python",
   "nbconvert_exporter": "python",
   "pygments_lexer": "ipython3",
   "version": "3.6.3"
  }
 },
 "nbformat": 4,
 "nbformat_minor": 2
}
