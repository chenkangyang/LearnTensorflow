{
 "cells": [
  {
   "cell_type": "code",
   "execution_count": 1,
   "metadata": {},
   "outputs": [],
   "source": [
    "import tensorflow as tf\n",
    "from tensorflow.examples.tutorials.mnist import input_data"
   ]
  },
  {
   "cell_type": "markdown",
   "metadata": {},
   "source": [
    "# load data"
   ]
  },
  {
   "cell_type": "code",
   "execution_count": 2,
   "metadata": {},
   "outputs": [
    {
     "name": "stdout",
     "output_type": "stream",
     "text": [
      "Extracting MNIST_data/train-images-idx3-ubyte.gz\n",
      "Extracting MNIST_data/train-labels-idx1-ubyte.gz\n",
      "Extracting MNIST_data/t10k-images-idx3-ubyte.gz\n",
      "Extracting MNIST_data/t10k-labels-idx1-ubyte.gz\n"
     ]
    }
   ],
   "source": [
    "# number 1 to 10 data\n",
    "mnist = input_data.read_data_sets('MNIST_data', one_hot=True)"
   ]
  },
  {
   "cell_type": "code",
   "execution_count": 3,
   "metadata": {},
   "outputs": [
    {
     "name": "stdout",
     "output_type": "stream",
     "text": [
      "train.shape\n",
      "(55000, 784)\n",
      "(55000, 10)\n",
      "test.shape\n",
      "(10000, 784)\n",
      "(10000, 10)\n"
     ]
    }
   ],
   "source": [
    "print(\"train.shape\")\n",
    "print(mnist.train.images.shape)\n",
    "print(mnist.train.labels.shape)\n",
    "print(\"test.shape\")\n",
    "print(mnist.test.images.shape)\n",
    "print(mnist.test.labels.shape)"
   ]
  },
  {
   "cell_type": "code",
   "execution_count": 4,
   "metadata": {},
   "outputs": [],
   "source": [
    "def compute_accuracy(v_xs, v_ys):\n",
    "    global prediction\n",
    "    y_pre = sess.run(prediction, feed_dict={xs: v_xs, keep_prob:1}) # y_pre 是一个1*10的概率向量\n",
    "    correct_prediction = tf.equal(tf.argmax(y_pre,1), tf.argmax(v_ys,1))\n",
    "    accuracy = tf.reduce_mean(tf.cast(correct_prediction, tf.float32))\n",
    "    result = sess.run(accuracy, feed_dict={xs: v_xs, ys: v_ys,keep_prob:1}) # 百分比\n",
    "    return result"
   ]
  },
  {
   "cell_type": "markdown",
   "metadata": {},
   "source": [
    "## 定义变量"
   ]
  },
  {
   "cell_type": "code",
   "execution_count": 5,
   "metadata": {},
   "outputs": [],
   "source": [
    "def weight_variable(shape,name=None):\n",
    "    initial = tf.truncated_normal(shape, stddev=0.1)\n",
    "    if name is None:\n",
    "        return tf.Variable(initial)\n",
    "    else:\n",
    "        return tf.Variable(initial,name=name)"
   ]
  },
  {
   "cell_type": "code",
   "execution_count": 6,
   "metadata": {},
   "outputs": [],
   "source": [
    "def bias_variable(shape,name):\n",
    "    initial = tf.constant(0.1, shape=shape)\n",
    "    if name is None:\n",
    "        return tf.Variable(initial)\n",
    "    else:\n",
    "        return tf.Variable(initial,name=name)"
   ]
  },
  {
   "cell_type": "markdown",
   "metadata": {},
   "source": [
    "## 定义层"
   ]
  },
  {
   "cell_type": "code",
   "execution_count": 7,
   "metadata": {},
   "outputs": [],
   "source": [
    "def conv2d(x, W):\n",
    "    # stride [1, x_movement, y_movement, 1]\n",
    "    # Must have strides[0] = strides[3] = 1\n",
    "    return tf.nn.conv2d(x, W, strides=[1, 1, 1, 1], padding='SAME')\n",
    "# \"SAME\"padding，抽取出的和原图大小相同，外围用0来填充再做卷积"
   ]
  },
  {
   "cell_type": "code",
   "execution_count": 8,
   "metadata": {},
   "outputs": [],
   "source": [
    "# pooling 一般不需要 padding？padding=0,即valid poolong\n",
    "def max_pooling_2x2(x):\n",
    "    return tf.nn.max_pool(x, ksize=[1,2,2,1],strides=[1,2,2,1],padding=\"SAME\")"
   ]
  },
  {
   "cell_type": "markdown",
   "metadata": {},
   "source": [
    "## 构造网络\n",
    "两个（卷积+最大池化），两个全联接层"
   ]
  },
  {
   "cell_type": "code",
   "execution_count": 9,
   "metadata": {},
   "outputs": [
    {
     "name": "stdout",
     "output_type": "stream",
     "text": [
      "(?, 28, 28, 1)\n"
     ]
    }
   ],
   "source": [
    "# define placeholder for inputs to network\n",
    "\n",
    "keep_prob = tf.placeholder(tf.float32)\n",
    "xs = tf.placeholder(tf.float32, [None, 784]) # 28*28\n",
    "ys = tf.placeholder(tf.float32, [None, 10])\n",
    "x_image = tf.reshape(xs,[-1,28,28,1]) # [n_samples, 28,28,1] -1 具体是多少由导入数据决定（多少张图片）\n",
    "print(x_image.shape) \n",
    "\n",
    "## conv1 layer ##\n",
    "W_conv1 = weight_variable([5,5,1,32],name=\"W_conv1\") # patch: 5*5, in size 1(通道数，image的厚度), out size 32（feature_map数量，一个卷积核生成一个feature_map）\n",
    "b_conv1 = bias_variable([32],name=\"b_conv1\")\n",
    "h_conv1 = tf.nn.relu(conv2d(x_image, W_conv1) + b_conv1)# output size 28*28*32\n",
    "h_pool1 = max_pooling_2x2(h_conv1) # output size 14*14*32\n",
    "\n",
    "## conv2 layer ##\n",
    "W_conv2 = weight_variable([5,5,32,64],name=\"W_conv2\") # patch: 5*5, in size 32，out size 64\n",
    "b_conv2 = bias_variable([64],name=\"b_conv2\")\n",
    "h_conv2 = tf.nn.relu(conv2d(h_pool1, W_conv2) + b_conv2)# output size 14*14*64\n",
    "h_pool2 = max_pooling_2x2(h_conv2) # output size 7*7*64\n",
    "\n",
    "## func1 layer ##\n",
    "W_fc1 = weight_variable([7*7*64,1024],name=\"W_fc1\")\n",
    "b_fc1 = bias_variable([1024],name=\"b_fc1\")\n",
    "\n",
    "h_pool2_flat = tf.reshape(h_pool2, [-1,7*7*64]) # [n_samples,7,7,64] ->> [n_samples,7*7*64]\n",
    "h_fc1 = tf.nn.relu(tf.matmul(h_pool2_flat, W_fc1)+b_fc1)\n",
    "h_fc1_drop = tf.nn.dropout(h_fc1,keep_prob)\n",
    "\n",
    "## func2 layer ##\n",
    "W_fc2 = weight_variable([1024,10],name=\"W_fc2\")\n",
    "b_fc2 = bias_variable([10],name=\"b_fc2\")\n",
    "prediction = tf.nn.softmax(tf.matmul(h_fc1_drop, W_fc2) + b_fc2)"
   ]
  },
  {
   "cell_type": "markdown",
   "metadata": {},
   "source": [
    "## 打印保存的参数值"
   ]
  },
  {
   "cell_type": "code",
   "execution_count": 10,
   "metadata": {},
   "outputs": [
    {
     "name": "stdout",
     "output_type": "stream",
     "text": [
      "tensor_name:  b_fc2\n",
      "tensor_name:  b_fc1\n",
      "tensor_name:  b_conv2\n",
      "tensor_name:  b_conv1\n",
      "tensor_name:  W_fc2\n",
      "tensor_name:  W_fc1\n",
      "tensor_name:  W_conv2\n",
      "tensor_name:  W_conv1\n"
     ]
    }
   ],
   "source": [
    "import os\n",
    "from tensorflow.python import pywrap_tensorflow\n",
    "\n",
    "current_path = os.getcwd()\n",
    "model_dir = os.path.join(current_path, 'my_cnn')\n",
    "checkpoint_path = os.path.join(model_dir,'save_net.ckpt') # 保存的ckpt文件名，不一定是这个\n",
    "# Read data from checkpoint file\n",
    "reader = pywrap_tensorflow.NewCheckpointReader(checkpoint_path)\n",
    "var_to_shape_map = reader.get_variable_to_shape_map()\n",
    "# Print tensor name and values\n",
    "for key in var_to_shape_map:\n",
    "    print(\"tensor_name: \", key)\n",
    "    # print(reader.get_tensor(key)) # 打印变量的值，对我们查找问题没啥影响，打印出来反而影响找问题"
   ]
  },
  {
   "cell_type": "markdown",
   "metadata": {},
   "source": [
    "由于使用了tf.train.AdamOptimizer()来更新梯度，所以在保存检查点的时候如果不指定则是全局保存，把优化的变量“w_out/Adam”这种命名规则的变量也一并保存了，自然在恢复的时候就会出现找不到XX变量。解决办法，在声明 saver = tf.train.Saver()的时候带上参数，即需要保存的变量--------\"https://blog.csdn.net/qq_36810544/article/details/81456182\""
   ]
  },
  {
   "cell_type": "markdown",
   "metadata": {},
   "source": [
    "## 载入参数"
   ]
  },
  {
   "cell_type": "code",
   "execution_count": 11,
   "metadata": {},
   "outputs": [
    {
     "name": "stdout",
     "output_type": "stream",
     "text": [
      "使用载入的模型参数，测试训练集预测准确度：\n",
      "INFO:tensorflow:Restoring parameters from my_cnn/save_net.ckpt\n",
      "0.9704\n"
     ]
    }
   ],
   "source": [
    "include = ['W_conv1','b_conv1','W_conv2','b_conv2','W_fc1','b_fc1','W_fc2','b_fc2']\n",
    "\n",
    "variables_to_restore = tf.contrib.slim.get_variables_to_restore(include=include)\n",
    "saver = tf.train.Saver(variables_to_restore)\n",
    "\n",
    "print(\"使用载入的模型参数，测试训练集预测准确度：\")\n",
    "with tf.Session() as sess:\n",
    "    saver.restore(sess, \"my_cnn/save_net.ckpt\")\n",
    "    print(compute_accuracy(\n",
    "            mnist.test.images, mnist.test.labels))"
   ]
  }
 ],
 "metadata": {
  "kernelspec": {
   "display_name": "Python [conda env:gc]",
   "language": "python",
   "name": "conda-env-gc-py"
  },
  "language_info": {
   "codemirror_mode": {
    "name": "ipython",
    "version": 3
   },
   "file_extension": ".py",
   "mimetype": "text/x-python",
   "name": "python",
   "nbconvert_exporter": "python",
   "pygments_lexer": "ipython3",
   "version": "3.6.3"
  }
 },
 "nbformat": 4,
 "nbformat_minor": 2
}
