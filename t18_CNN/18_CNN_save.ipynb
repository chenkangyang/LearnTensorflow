{
 "cells": [
  {
   "cell_type": "code",
   "execution_count": 1,
   "metadata": {},
   "outputs": [],
   "source": [
    "import tensorflow as tf\n",
    "from tensorflow.examples.tutorials.mnist import input_data"
   ]
  },
  {
   "cell_type": "markdown",
   "metadata": {},
   "source": [
    "# load data"
   ]
  },
  {
   "cell_type": "code",
   "execution_count": 2,
   "metadata": {},
   "outputs": [
    {
     "name": "stdout",
     "output_type": "stream",
     "text": [
      "Extracting MNIST_data/train-images-idx3-ubyte.gz\n",
      "Extracting MNIST_data/train-labels-idx1-ubyte.gz\n",
      "Extracting MNIST_data/t10k-images-idx3-ubyte.gz\n",
      "Extracting MNIST_data/t10k-labels-idx1-ubyte.gz\n"
     ]
    }
   ],
   "source": [
    "# number 1 to 10 data\n",
    "mnist = input_data.read_data_sets('MNIST_data', one_hot=True)"
   ]
  },
  {
   "cell_type": "code",
   "execution_count": 3,
   "metadata": {},
   "outputs": [
    {
     "name": "stdout",
     "output_type": "stream",
     "text": [
      "train.shape\n",
      "(55000, 784)\n",
      "(55000, 10)\n"
     ]
    }
   ],
   "source": [
    "print(\"train.shape\")\n",
    "print(mnist.train.images.shape)\n",
    "print(mnist.train.labels.shape)"
   ]
  },
  {
   "cell_type": "code",
   "execution_count": 4,
   "metadata": {},
   "outputs": [],
   "source": [
    "def compute_accuracy(v_xs, v_ys):\n",
    "    global prediction\n",
    "    y_pre = sess.run(prediction, feed_dict={xs: v_xs, keep_prob:1}) # y_pre 是一个1*10的概率向量\n",
    "    correct_prediction = tf.equal(tf.argmax(y_pre,1), tf.argmax(v_ys,1))\n",
    "    accuracy = tf.reduce_mean(tf.cast(correct_prediction, tf.float32))\n",
    "    result = sess.run(accuracy, feed_dict={xs: v_xs, ys: v_ys,keep_prob:1}) # 百分比\n",
    "    return result"
   ]
  },
  {
   "cell_type": "markdown",
   "metadata": {},
   "source": [
    "## 定义变量"
   ]
  },
  {
   "cell_type": "code",
   "execution_count": 5,
   "metadata": {},
   "outputs": [],
   "source": [
    "def weight_variable(shape,name=None):\n",
    "    initial = tf.truncated_normal(shape, stddev=0.1)\n",
    "    if name is None:\n",
    "        return tf.Variable(initial)\n",
    "    else:\n",
    "        return tf.Variable(initial,name=name)"
   ]
  },
  {
   "cell_type": "code",
   "execution_count": 6,
   "metadata": {},
   "outputs": [],
   "source": [
    "def bias_variable(shape,name):\n",
    "    initial = tf.constant(0.1, shape=shape)\n",
    "    if name is None:\n",
    "        return tf.Variable(initial)\n",
    "    else:\n",
    "        return tf.Variable(initial,name=name)"
   ]
  },
  {
   "cell_type": "markdown",
   "metadata": {},
   "source": [
    "## 定义层"
   ]
  },
  {
   "cell_type": "code",
   "execution_count": 7,
   "metadata": {},
   "outputs": [],
   "source": [
    "def conv2d(x, W):\n",
    "    # stride [1, x_movement, y_movement, 1]\n",
    "    # Must have strides[0] = strides[3] = 1\n",
    "    return tf.nn.conv2d(x, W, strides=[1, 1, 1, 1], padding='SAME')\n",
    "# \"SAME\"padding，抽取出的和原图大小相同，外围用0来填充再做卷积"
   ]
  },
  {
   "cell_type": "code",
   "execution_count": 8,
   "metadata": {},
   "outputs": [],
   "source": [
    "# pooling 一般不需要 padding？padding=0,即valid poolong\n",
    "def max_pooling_2x2(x):\n",
    "    return tf.nn.max_pool(x, ksize=[1,2,2,1],strides=[1,2,2,1],padding=\"SAME\")"
   ]
  },
  {
   "cell_type": "markdown",
   "metadata": {},
   "source": [
    "## 构造网络\n",
    "两个（卷积+最大池化），两个全联接层"
   ]
  },
  {
   "cell_type": "code",
   "execution_count": 9,
   "metadata": {},
   "outputs": [
    {
     "name": "stdout",
     "output_type": "stream",
     "text": [
      "(?, 28, 28, 1)\n"
     ]
    }
   ],
   "source": [
    "# define placeholder for inputs to network\n",
    "keep_prob = tf.placeholder(tf.float32)\n",
    "xs = tf.placeholder(tf.float32, [None, 784]) # 28*28\n",
    "ys = tf.placeholder(tf.float32, [None, 10])\n",
    "x_image = tf.reshape(xs,[-1,28,28,1]) # [n_samples, 28,28,1] -1 具体是多少由导入数据决定（多少张图片）\n",
    "print(x_image.shape) \n",
    "    \n",
    "def my_cnn():\n",
    "    ## conv1 layer ##\n",
    "    W_conv1 = weight_variable([5,5,1,32],name=\"W_conv1\") # patch: 5*5, in size 1(通道数，image的厚度), out size 32（feature_map数量，一个卷积核生成一个feature_map）\n",
    "    b_conv1 = bias_variable([32],name=\"b_conv1\")\n",
    "    h_conv1 = tf.nn.relu(conv2d(x_image, W_conv1) + b_conv1)# output size 28*28*32\n",
    "    h_pool1 = max_pooling_2x2(h_conv1) # output size 14*14*32\n",
    "\n",
    "    ## conv2 layer ##\n",
    "    W_conv2 = weight_variable([5,5,32,64],name=\"W_conv2\") # patch: 5*5, in size 32，out size 64\n",
    "    b_conv2 = bias_variable([64],name=\"b_conv2\")\n",
    "    h_conv2 = tf.nn.relu(conv2d(h_pool1, W_conv2) + b_conv2)# output size 14*14*64\n",
    "    h_pool2 = max_pooling_2x2(h_conv2) # output size 7*7*64\n",
    "\n",
    "    ## func1 layer ##\n",
    "    W_fc1 = weight_variable([7*7*64,1024],name=\"W_fc1\")\n",
    "    b_fc1 = bias_variable([1024],name=\"b_fc1\")\n",
    "\n",
    "    h_pool2_flat = tf.reshape(h_pool2, [-1,7*7*64]) # [n_samples,7,7,64] ->> [n_samples,7*7*64]\n",
    "    h_fc1 = tf.nn.relu(tf.matmul(h_pool2_flat, W_fc1)+b_fc1)\n",
    "    h_fc1_drop = tf.nn.dropout(h_fc1,keep_prob)\n",
    "\n",
    "    ## func2 layer ##\n",
    "    W_fc2 = weight_variable([1024,10],name=\"W_fc2\")\n",
    "    b_fc2 = bias_variable([10],name=\"b_fc2\")\n",
    "    prediction = tf.nn.softmax(tf.matmul(h_fc1_drop, W_fc2) + b_fc2)\n",
    "\n",
    "    var_dict = {'W_conv1': W_conv1, \n",
    "                'b_conv1': b_conv1, \n",
    "                'W_conv2': W_conv2, \n",
    "                'b_conv2': b_conv2, \n",
    "                'W_fc1': W_fc1, \n",
    "                'b_fc1': b_fc1,\n",
    "                'W_fc2': W_fc2,\n",
    "                'b_fc2': b_fc2}\n",
    "    return prediction, var_dict"
   ]
  },
  {
   "cell_type": "markdown",
   "metadata": {},
   "source": [
    "## loss"
   ]
  },
  {
   "cell_type": "code",
   "execution_count": 10,
   "metadata": {},
   "outputs": [],
   "source": [
    "prediction, var_dict = my_cnn()\n",
    "\n",
    "# the error between prediction and real data\n",
    "cross_entropy = tf.reduce_mean(-tf.reduce_sum(ys * tf.log(prediction),\n",
    "                                              reduction_indices=[1]))       # loss"
   ]
  },
  {
   "cell_type": "markdown",
   "metadata": {},
   "source": [
    "## train"
   ]
  },
  {
   "cell_type": "code",
   "execution_count": 11,
   "metadata": {},
   "outputs": [
    {
     "name": "stdout",
     "output_type": "stream",
     "text": [
      "准确率的提升过程...\n",
      "0.079\n",
      "0.762\n",
      "0.851\n",
      "0.884\n",
      "0.902\n",
      "0.911\n",
      "0.924\n",
      "0.932\n",
      "0.942\n",
      "0.944\n",
      "0.945\n",
      "0.946\n",
      "0.953\n",
      "0.949\n",
      "0.956\n",
      "0.955\n",
      "0.964\n",
      "0.962\n",
      "0.966\n",
      "0.963\n"
     ]
    }
   ],
   "source": [
    "train_step = tf.train.AdamOptimizer(1e-4).minimize(cross_entropy)\n",
    "    \n",
    "\n",
    "sess = tf.Session()\n",
    "\n",
    "# important step\n",
    "init = tf.global_variables_initializer()\n",
    "sess.run(init)\n",
    "\n",
    "saver = tf.train.Saver(var_dict)\n",
    "\n",
    "print(\"准确率的提升过程...\")\n",
    "for i in range(1000):\n",
    "    batch_xs, batch_ys = mnist.train.next_batch(100)\n",
    "    sess.run(train_step, feed_dict={xs: batch_xs, ys: batch_ys, keep_prob: 0.5})\n",
    "    if i % 50 == 0:\n",
    "        print(compute_accuracy(\n",
    "            mnist.test.images[:1000], mnist.test.labels[:1000]))"
   ]
  },
  {
   "cell_type": "markdown",
   "metadata": {},
   "source": [
    "最终达到97%的准确度\n",
    "- 0.14\n",
    "- 0.762\n",
    "- 0.845\n",
    "- 0.901\n",
    "- 0.915\n",
    "- 0.921\n",
    "- 0.937\n",
    "- 0.936\n",
    "- 0.94\n",
    "- 0.952\n",
    "- 0.952\n",
    "- 0.951\n",
    "- 0.952\n",
    "- 0.958\n",
    "- 0.96\n",
    "- 0.962\n",
    "- 0.961\n",
    "- 0.962\n",
    "- 0.97\n",
    "- 0.964"
   ]
  },
  {
   "cell_type": "code",
   "execution_count": 12,
   "metadata": {},
   "outputs": [
    {
     "name": "stdout",
     "output_type": "stream",
     "text": [
      "Save to path: my_cnn/save_net.ckpt\n"
     ]
    }
   ],
   "source": [
    "# 只保存第1000次的参数\n",
    "save_path = saver.save(sess,\"my_cnn/save_net.ckpt\")\n",
    "print(\"Save to path:\", save_path)"
   ]
  }
 ],
 "metadata": {
  "kernelspec": {
   "display_name": "Python [conda env:gc]",
   "language": "python",
   "name": "conda-env-gc-py"
  },
  "language_info": {
   "codemirror_mode": {
    "name": "ipython",
    "version": 3
   },
   "file_extension": ".py",
   "mimetype": "text/x-python",
   "name": "python",
   "nbconvert_exporter": "python",
   "pygments_lexer": "ipython3",
   "version": "3.6.3"
  }
 },
 "nbformat": 4,
 "nbformat_minor": 2
}
